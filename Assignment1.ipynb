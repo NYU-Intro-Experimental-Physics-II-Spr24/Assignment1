{
  "nbformat": 4,
  "nbformat_minor": 0,
  "metadata": {
    "colab": {
      "provenance": [],
      "toc_visible": true
    },
    "kernelspec": {
      "name": "python3",
      "display_name": "Python 3"
    },
    "language_info": {
      "name": "python"
    }
  },
  "cells": [
    {
      "cell_type": "markdown",
      "source": [
        "# Assignment 1: Python basics review\n",
        "This lab will review the key concepts from Pine Chapters 1-6 and continue introducing you the the Colab interface. Many of the code snippets you develop here will be useful in later labs and homework assignments."
      ],
      "metadata": {
        "id": "prE0VhgsJDqk"
      }
    },
    {
      "cell_type": "markdown",
      "source": [
        "# Part 1: the Colab interface\n",
        "As you [read](https://colab.research.google.com/github/ContextLab/cs-for-psych/blob/master/slides/module_1/introduction_and_overview.ipynb#scrollTo=3dm7OT9bUUca) in Assignment0, Colab is a hosted Jupyter Notebook service. For more details about Colab, see e.g.\n",
        "\n",
        "\n",
        "1.   https://colab.google/\n",
        "2.   https://colab.research.google.com/#\n",
        "3.   https://colab.research.google.com/notebooks/basic_features_overview.ipynb\n",
        "\n",
        "\n",
        "(These resources may be useful to you, but going through them is not required.)"
      ],
      "metadata": {
        "id": "0kcynFUCKjrG"
      }
    },
    {
      "cell_type": "markdown",
      "source": [
        "## This is an example subheading\n",
        "The table of contents (headings, subheadings, etc.) can be viewed by clicking the button on the left panel. Try it!\n",
        "\n",
        "You should also see a down arrow next to some headings; this means you can (un)fold the cells. Try it!\n",
        "### This is an example subsubheading\n",
        "This is more example text. Here is an example equation: $$x(t) = e^{-t}$$\n",
        "\n"
      ],
      "metadata": {
        "id": "Wf-i0T6aLMyY"
      }
    },
    {
      "cell_type": "markdown",
      "source": [
        "## This is an example code cell.\n",
        "To run the code in the cell, hit shift-return."
      ],
      "metadata": {
        "id": "e1KsFrcuMXuE"
      }
    },
    {
      "cell_type": "code",
      "source": [
        "'''This is a comment. It will be ignored by python.\n",
        "Triple quotes are usually used for longer,\n",
        "possibly multiline,\n",
        "comments.'''\n",
        "print(\"hello world!\") # The hashtag also creates a comment. It will be ignored by python.\n",
        "print(1 + 5)\n",
        "#comment a\n",
        "#comment b\n",
        "#comment c"
      ],
      "metadata": {
        "id": "KTWGxmYbMeWA"
      },
      "execution_count": null,
      "outputs": []
    },
    {
      "cell_type": "markdown",
      "source": [
        "## Exercise 1.1\n",
        "\n",
        "Experiment with creating your own heading, subheading, text, and code cells for a couple of minutes."
      ],
      "metadata": {
        "id": "hWVh_Wpn-JlJ"
      }
    },
    {
      "cell_type": "markdown",
      "source": [
        "# Part 2: Python basics"
      ],
      "metadata": {
        "id": "UHBx2idjawNG"
      }
    },
    {
      "cell_type": "markdown",
      "source": [
        "## Variables and assignment (Pine 2.7)"
      ],
      "metadata": {
        "id": "LQMlByHPemRl"
      }
    },
    {
      "cell_type": "markdown",
      "source": [
        "### Exercise 2.1\n",
        "What is printed by the following code snippets?\n",
        "\n",
        "\n",
        "```\n",
        "a = 5\n",
        "b = a\n",
        "b = 6\n",
        "print(a, b)\n",
        "\n",
        "a = 5\n",
        "b = 6\n",
        "b = a\n",
        "print(a, b)\n",
        "\n",
        "```\n",
        "\n",
        "\n",
        "---\n",
        "Your answers:\n",
        "\n"
      ],
      "metadata": {
        "id": "PA3nIi0A-jzX"
      }
    },
    {
      "cell_type": "markdown",
      "source": [
        "### Exercise 2.2\n",
        "What is printed by the following code snippet?\n",
        "\n",
        "\n",
        "```\n",
        "a = 1\n",
        "a += 4\n",
        "a += a\n",
        "print(a)\n",
        "a **= 3\n",
        "print(a)\n",
        "```\n",
        "\n",
        "---\n",
        "\n",
        "\n",
        "Your answer:\n"
      ],
      "metadata": {
        "id": "5KAsYJnJt1ye"
      }
    },
    {
      "cell_type": "markdown",
      "source": [
        "## Conditionals and loops (Pine Ch 6)"
      ],
      "metadata": {
        "id": "gzfn7-ggxIy7"
      }
    },
    {
      "cell_type": "markdown",
      "source": [
        "### if, elif, else (Pine 6.1.1)"
      ],
      "metadata": {
        "id": "3gLauYsJAdRZ"
      }
    },
    {
      "cell_type": "markdown",
      "source": [
        "#### Exercise 2.2\n",
        "Satisfy the different cases below by changing the value of myTest. Make sure you understand Pine Fig. 6.1."
      ],
      "metadata": {
        "id": "TJ5LqKfDBiU0"
      }
    },
    {
      "cell_type": "code",
      "source": [
        "myTest = 100\n",
        "if myTest < 10:\n",
        "  print(\"case 1\")\n",
        "elif myTest < 20:\n",
        "  print(\"case 2\")\n",
        "elif myTest < 30:\n",
        "  print(\"case 3\")\n",
        "else:\n",
        "  print(\"case 4\")"
      ],
      "metadata": {
        "id": "7U2J1oV_A3q4"
      },
      "execution_count": null,
      "outputs": []
    },
    {
      "cell_type": "markdown",
      "source": [
        "#### Exercise 2.3\n",
        "Can you set myTest in the code below such that it prints case 3? Why or why not?\n",
        "```\n",
        "myTest = ????\n",
        "if myTest < 10:\n",
        "  print(\"case 1\")\n",
        "elif myTest < 30:\n",
        "  print(\"case 2\")\n",
        "elif myTest < 20:\n",
        "  print(\"case 3\")\n",
        "else:\n",
        "  print(\"case 4\")\n",
        "```\n",
        "---\n",
        "Your answer here:"
      ],
      "metadata": {
        "id": "o9PI_g9fCO3n"
      }
    },
    {
      "cell_type": "markdown",
      "source": [
        "### Logical operators (Pine 6.1.2)"
      ],
      "metadata": {
        "id": "G4sVkWO0A0JF"
      }
    },
    {
      "cell_type": "markdown",
      "source": [
        "#### Exercise 2.4\n",
        "What is the difference between `d = 5` and `d==5`?\\\n",
        "Your answer:"
      ],
      "metadata": {
        "id": "vK4CeDODDYUs"
      }
    },
    {
      "cell_type": "markdown",
      "source": [
        "#### Exercise 2.5\n",
        "Make sure you understand what is printed by the following code cells. Discuss with a partner."
      ],
      "metadata": {
        "id": "CCEOJPOMowH0"
      }
    },
    {
      "cell_type": "code",
      "source": [
        "myList = ['string', 12.5, []]\n",
        "for x in myList:\n",
        "  for y in myList:\n",
        "    if x !=y:\n",
        "      print('x is {}; y is {}; x = y?'.format(x, y), x==y)\n",
        "    else:\n",
        "      print('x is {}; y is {}; x = y?'.format(x, y), x==y)"
      ],
      "metadata": {
        "id": "tCVFbWWibXf7"
      },
      "execution_count": null,
      "outputs": []
    },
    {
      "cell_type": "code",
      "source": [
        "myList = [0, 1, True, False]\n",
        "for x in myList:\n",
        "  for y in myList:\n",
        "    if x !=y:\n",
        "      print('x is {}; y is {}; x = y?'.format(x, y), x==y)\n",
        "    else:\n",
        "      print('x is {}; y is {}; x = y?'.format(x, y), x==y)"
      ],
      "metadata": {
        "id": "1gC6BEq0qEqQ"
      },
      "execution_count": null,
      "outputs": []
    },
    {
      "cell_type": "code",
      "source": [
        "myList = [-10, 1, 2]\n",
        "for x in myList:\n",
        "  for y in myList:\n",
        "    if x < y:\n",
        "      print('x is {}; y is {}; x < y?'.format(x, y), x<y)\n",
        "    else:\n",
        "      print('x is {}; y is {}; x >= y?'.format(x, y), x>=y)"
      ],
      "metadata": {
        "id": "uTFO4VF2o6It"
      },
      "execution_count": null,
      "outputs": []
    },
    {
      "cell_type": "code",
      "source": [
        "myList = [0, 1, 2, True, False]\n",
        "for x in myList:\n",
        "  for y in myList:\n",
        "    if x and y:\n",
        "      print('x is {}; y is {}; x and y?'.format(x, y), x & y)\n",
        "    elif x or y:\n",
        "      print('x is {}; y is {}; x or y?'.format(x, y), x | y)\n",
        "    else:\n",
        "      print('x is {}; y is {}; else'.format(x, y))"
      ],
      "metadata": {
        "id": "BLEkuKCrpEOX"
      },
      "execution_count": null,
      "outputs": []
    },
    {
      "cell_type": "markdown",
      "source": [
        "### For loops (Pine 6.2.1)"
      ],
      "metadata": {
        "id": "xJz0kG2SA710"
      }
    },
    {
      "cell_type": "markdown",
      "source": [
        "#### Exercise 2.6\n",
        "What is printed by the following code snippets?\n",
        "\n",
        "```\n",
        "myList = []\n",
        "for x in range(5):\n",
        "  myList.append(x)\n",
        "print(myList)\n",
        "\n",
        "for x in ['A', 'B', 'C', 'D']:\n",
        "  print(x)\n",
        "```\n",
        "---\n",
        "\n",
        "\n",
        "Your answers:\n",
        "\n"
      ],
      "metadata": {
        "id": "EAz6eRXjuuC9"
      }
    },
    {
      "cell_type": "markdown",
      "source": [
        "### While loops (Pine 6.2.3)"
      ],
      "metadata": {
        "id": "5TT88gvKA-BG"
      }
    },
    {
      "cell_type": "markdown",
      "source": [
        "#### Exercise 2.7\n",
        "What is printed by the following code snippets?\n",
        "\n",
        "\n",
        "```\n",
        "count = 0\n",
        "while count < 3:\n",
        "  print(count)\n",
        "  count+=1\n",
        "\n",
        "while True:\n",
        "  print('.')\n",
        "\n",
        "while False:\n",
        "  print('!')\n",
        "```\n",
        "---\n",
        "Your answers:\n",
        "\n"
      ],
      "metadata": {
        "id": "e9DG59CivkUo"
      }
    },
    {
      "cell_type": "markdown",
      "source": [
        "## Types"
      ],
      "metadata": {
        "id": "1GBea7G8bNdg"
      }
    },
    {
      "cell_type": "markdown",
      "source": [
        "### Arithmetic with floats, ints, and complex numbers"
      ],
      "metadata": {
        "id": "Jx8D2aPfcDcs"
      }
    },
    {
      "cell_type": "code",
      "source": [
        "### Arithmetic with integers (ints)\n",
        "print(3 + 15) #addition\n",
        "print(3*45) #multiplication\n",
        "print(46/3) #division\n",
        "print(46//3) #floor division\n",
        "print(45%5) #remainder\n",
        "print(2**3) #exponentiation\n",
        "\n",
        "### Arithmetic with floats\n",
        "print(3.0 + 15.0) #addition\n",
        "print(3.0*45.0) #multiplication\n",
        "print(46.0/3.0) #division\n",
        "print(46.0//3.0) #floor division\n",
        "print(45.0%5.0) #remainder\n",
        "print(2.0**3.0) #exponentiation\n",
        "\n",
        "### Arithmetic with complex numbers\n",
        "print(3+4j + 15-2j) #addition\n",
        "print((3+4j)*(15-2j)) #multiplication\n",
        "print((3+4j)/(15-2j)) #division\n",
        "abs(3+4j) #absolute value"
      ],
      "metadata": {
        "id": "HWSbcPfocFBy"
      },
      "execution_count": null,
      "outputs": []
    },
    {
      "cell_type": "markdown",
      "source": [
        "### Strings (Pine 3.1), formatting strings (Pine 4.2.1)"
      ],
      "metadata": {
        "id": "EjMLKR5wE3jA"
      }
    },
    {
      "cell_type": "markdown",
      "source": [
        "#### Exercise 2.8\n",
        "What is printed by the following code snippet?\n",
        "\n",
        "```\n",
        "myStr = 'I bought'\n",
        "x, y = 10, 3\n",
        "print(myStr[0:5]) #slicing\n",
        "print(myStr + myStr + myStr) #concatenation\n",
        "print(myStr + ' {} apples!'.format(x)) #string formatting\n",
        "print(myStr + ' {} apples and {} oranges!'.format(x, y))\n",
        "print('The speed of the jogger is {:.4f} mph.'.format(x/y))\n",
        "```\n",
        "\n",
        "\n",
        "\n",
        "---\n",
        "Your answer:\n"
      ],
      "metadata": {
        "id": "erXLJFOQ-Iz8"
      }
    },
    {
      "cell_type": "markdown",
      "source": [
        "### Lists (Pine 3.2)\n",
        "\n",
        "#### Exercise 2.9\n",
        "`myList` is defined below. Print the third through sixth entries of the list."
      ],
      "metadata": {
        "id": "L4UlYCdwE7vs"
      }
    },
    {
      "cell_type": "code",
      "source": [
        "myList = ['a', 1, 3.4, 'str', 5**2, 3+4]\n",
        "### BEGIN YOUR CODE\n",
        "###\n",
        "### END YOUR CODE"
      ],
      "metadata": {
        "id": "o5X6tJdem7kz"
      },
      "execution_count": null,
      "outputs": []
    },
    {
      "cell_type": "markdown",
      "source": [
        "#### Exercise 2.10\n",
        "Below are two different code snippets that show a student trying to make a copy of a list. Explain what is printed by the snippets below. Which method, the first or the second, is the better way of making a copy of a list?\n",
        "\n",
        "\n",
        "```\n",
        "myList = ['a', 1, 3.4, 'str', 5**2, 3+4]\n",
        "myList2 = myList[:] # correct way to make a copy\n",
        "myList2.append('test 1')\n",
        "print(myList)\n",
        "\n",
        "myList = ['a', 1, 3.4, 'str', 5**2, 3+4]\n",
        "myList2 = myList # incorrect way to make a copy\n",
        "myList2.append('test 2')\n",
        "print(myList)\n",
        "```\n",
        "\n"
      ],
      "metadata": {
        "id": "LKRgDqjZLRd0"
      }
    },
    {
      "cell_type": "markdown",
      "source": [
        "### Dictionaries (Pine 3.4)"
      ],
      "metadata": {
        "id": "nDKkiR3IE40U"
      }
    },
    {
      "cell_type": "code",
      "source": [
        "myDict = {'parrot': 5} #initialize a dictionary\n",
        "print(\"Initialized a dictionary: \", myDict) #print\n",
        "myDict['cat'] = 10 #add an entry\n",
        "myDict['dog'] = 2 #add an entry\n",
        "myDict['dinosaur'] = 5 #add an entry\n",
        "print(\"Updated the dictionary: \", myDict) #print again\n",
        "\n",
        "for animal in myDict.keys(): #loop through the keys in the dictionary\n",
        "  print('Oh no! There are {} {}s in the lab.'.format(myDict[animal], animal)) #print"
      ],
      "metadata": {
        "id": "BVDpia8ipBkI"
      },
      "execution_count": null,
      "outputs": []
    },
    {
      "cell_type": "markdown",
      "source": [
        "#### Exercise 2.11\n",
        "Run the code cell above and make sure you understand what is printed. Then, add three more entries to myDict."
      ],
      "metadata": {
        "id": "a3-LcHt0MPz6"
      }
    },
    {
      "cell_type": "code",
      "source": [
        "### BEGIN YOUR CODE\n",
        "###\n",
        "### END YOUR CODE"
      ],
      "metadata": {
        "id": "syIrPL4aMXln"
      },
      "execution_count": null,
      "outputs": []
    },
    {
      "cell_type": "markdown",
      "source": [
        "## Exercise 2.12\n",
        "Please list any of the above topics which you had difficulty with or have not seen before."
      ],
      "metadata": {
        "id": "M95FtNEr-8sA"
      }
    },
    {
      "cell_type": "markdown",
      "source": [
        "# Part 3: The NumPy and MatPlotLib modules (Pine 2.5)"
      ],
      "metadata": {
        "id": "ejwKsmPZdbRn"
      }
    },
    {
      "cell_type": "markdown",
      "source": [
        "### Exercise 3.1\n",
        "Run the code cell below. It will give you an error message. Read the error message and explain what it means, as well as how to fix it.\n",
        "\n",
        "\n",
        "---\n",
        "\n",
        "\n",
        "Your answer:\n"
      ],
      "metadata": {
        "id": "QSqginoxtK4v"
      }
    },
    {
      "cell_type": "code",
      "source": [
        "print(sin(0))"
      ],
      "metadata": {
        "id": "2JpR6KyHdd2h"
      },
      "execution_count": null,
      "outputs": []
    },
    {
      "cell_type": "markdown",
      "source": [
        "## NumPy\n",
        "The NumPy documentation is a great resource: https://numpy.org/doc/stable/"
      ],
      "metadata": {
        "id": "xfzDFBnDajH3"
      }
    },
    {
      "cell_type": "markdown",
      "source": [
        "### Exercise 3.2\n",
        "Please read the following from the NumPy [user guide](https://https://numpy.org/doc/stable/user/index.html#user) and edit the code that follows:\n",
        "\n",
        "\n",
        "1.   [What is NumPy?](https://numpy.org/doc/stable/user/whatisnumpy.html)\n",
        "2.   [NumPy fundamentals](https://https://numpy.org/doc/stable/user/basics.html)"
      ],
      "metadata": {
        "id": "zETRBZGrAzBl"
      }
    },
    {
      "cell_type": "code",
      "source": [
        "### BEGIN YOUR CODE\n",
        "#I read about the NumPy scientific computing package\n",
        "WHAT_IS_NUMPY = False\n",
        "\n",
        "#I read the NumPy fundamentals\n",
        "NUMPY_FUNDAMENTALS = False\n",
        "\n",
        "### END YOUR CODE"
      ],
      "metadata": {
        "id": "6Ol08FZvB9MH"
      },
      "execution_count": null,
      "outputs": []
    },
    {
      "cell_type": "markdown",
      "source": [
        "## Exercise 3.3\n",
        "Define a numpy array (\"x\") of length 101 with equally spaced values from zero to one hundred. Define a second numpy array (\"y\") of length 101 which is the sin of x: $$y = \\sin(x).$$\n",
        "\n",
        "Finally, define a third array (\"z\") of length 101 whose entries are all 0.1."
      ],
      "metadata": {
        "id": "pMxW7siGCrYW"
      }
    },
    {
      "cell_type": "code",
      "source": [
        "### BEGIN YOUR CODE\n",
        "###\n",
        "### END YOUR CODE"
      ],
      "metadata": {
        "id": "5msX5PXNCwFo"
      },
      "execution_count": null,
      "outputs": []
    },
    {
      "cell_type": "markdown",
      "source": [
        "## Matplotlib\n",
        "Please take a look at the [Matplotlib quick start guide](https://matplotlib.org/stable/users/explain/quick_start.html) and other documentation. It is a useful reference."
      ],
      "metadata": {
        "id": "88U9T4tHagQS"
      }
    },
    {
      "cell_type": "markdown",
      "source": [
        "### Exercise 3.4\n",
        "(a) In Exercise 3.3, you defined two arrays \"x\" and \"y\". Now make a plot with \"x\" on the horizontal axis and \"y\" on the vertical axis. Label the horizontal and vertical axes appropriately, and give the plot a title."
      ],
      "metadata": {
        "id": "25u7L0IKE3n7"
      }
    },
    {
      "cell_type": "code",
      "source": [
        "### BEGIN YOUR CODE\n",
        "###\n",
        "### END YOUR CODE"
      ],
      "metadata": {
        "id": "gIdFndWzalm3"
      },
      "execution_count": null,
      "outputs": []
    },
    {
      "cell_type": "markdown",
      "source": [
        "(b) Now plot only the first half of x and y (i.e. only entries 0 through 50 of each array)."
      ],
      "metadata": {
        "id": "5kS7h-1DJPkS"
      }
    },
    {
      "cell_type": "code",
      "source": [
        "### BEGIN YOUR CODE\n",
        "###\n",
        "### END YOUR CODE"
      ],
      "metadata": {
        "id": "DBDk15hbJbur"
      },
      "execution_count": null,
      "outputs": []
    },
    {
      "cell_type": "markdown",
      "source": [
        "(c) Plot \"x\" on the horizontal axis and (i) cos(x) and (ii) tan(x) on the vertical axis. Make sure cos(x) and tan(x) are in different colors, and include a legend on the plot to distinguish the two curves.  "
      ],
      "metadata": {
        "id": "8poPfU5ZJjs5"
      }
    },
    {
      "cell_type": "markdown",
      "source": [
        "### Exercise 3.5\n",
        "Let us now relate the arrays x, y, and z defined in Exercise 3.3 to a measurement. Let x be time measured in seconds. Let y be the height of a weight swaying on a rope (i.e., a pendulum), and let z be the uncertainty on the measured height. Plot y vs x, including a y-errorbar on the plot to show the uncertainty on the measurement. Always include appropriate axis labels on plots.\n"
      ],
      "metadata": {
        "id": "ktRbGktiRdl7"
      }
    },
    {
      "cell_type": "code",
      "source": [
        "### BEGIN YOUR CODE\n",
        "###\n",
        "### END YOUR CODE"
      ],
      "metadata": {
        "id": "1gmuV35XIKAW"
      },
      "execution_count": null,
      "outputs": []
    }
  ]
}